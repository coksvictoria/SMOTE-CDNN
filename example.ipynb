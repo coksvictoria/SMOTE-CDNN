{
  "nbformat": 4,
  "nbformat_minor": 0,
  "metadata": {
    "colab": {
      "name": "Untitled0.ipynb",
      "provenance": [],
      "collapsed_sections": []
    },
    "kernelspec": {
      "name": "python3",
      "display_name": "Python 3"
    },
    "language_info": {
      "name": "python"
    }
  },
  "cells": [
    {
      "cell_type": "code",
      "execution_count": 38,
      "metadata": {
        "id": "-zsddwYbiRz6"
      },
      "outputs": [],
      "source": [
        "import numpy as np\n",
        "from sklearn import datasets, neighbors\n",
        "from sklearn.model_selection import train_test_split\n",
        "from sklearn.metrics import accuracy_score\n",
        "import time\n",
        "from CDNN import KCDNNClassifier"
      ]
    },
    {
      "cell_type": "code",
      "source": [
        "def test_digits(k):\n",
        "  print(\"---------------Digits dataset------------------\")\n",
        "  print(\"Loading data.....\")\n",
        "  data = datasets.load_digits()\n",
        "  n_classes = len(np.unique(data.target))\n",
        "  print(\"Done loading data!\\n\")\n",
        "  X_train, X_test, y_train, y_test = train_test_split(data.data, data.target, test_size=0.2,random_state=1)\n",
        "  data_dim = len(X_train[0])\n",
        "  print(\"Number of classes: %d\" % n_classes)\n",
        "  print(\"Data dimension: %d\" % data_dim)\n",
        "  print(\"Number of training samples: %d\" % (len(y_train)))\n",
        "  print(\"Number of testing samples: %d\\n\" % (len(y_test)))\n",
        "  #predict with cdnn\n",
        "  cdnn=KCDNNClassifier(k)\n",
        "  start_cdnn = time.time()\n",
        "  cdnn.fit(X_train,y_train)\n",
        "  predict = cdnn.predict(X_test)\n",
        "  t = time.time() - start_cdnn\n",
        "  acc = accuracy_score(y_test, predict)\n",
        "  print(\"Predict time for CDNN: %.3fs\" % (t))\n",
        "  print(\"Accuracy for CDNN with k = %d: %.3f\\n\" % (k, acc))\n",
        "\n",
        "  #predict with sklearn knn\n",
        "  for weights in ['uniform', 'distance']:\n",
        "    knn = neighbors.KNeighborsClassifier(k, weights=weights)\n",
        "    start_knn = time.time()\n",
        "    knn.fit(X_train, y_train)\n",
        "    predict = knn.predict(X_test)\n",
        "    t = time.time() - start_knn\n",
        "    acc = accuracy_score(y_test, predict)\n",
        "    print(\"Predict time for kNN with %s weights: %.3fs\" % (weights, t))\n",
        "    print(\"Accuracy for kNN with k = %d and %s weights: %.3f\\n\" % (k, weights, acc))\n",
        "\n",
        "  print(\"-----------------------------------------------\\n\")\n",
        "\n",
        "def test_breast_cancer(k):\n",
        "  print(\"---------------Breast Cancer dataset------------------\")\n",
        "  print(\"Loading data.....\")\n",
        "  data = datasets.load_breast_cancer()\n",
        "  n_classes = len(np.unique(data.target))\n",
        "  print(\"Done loading data!\\n\")\n",
        "  X_train, X_test, y_train, y_test = train_test_split(data.data, data.target, test_size=0.2,random_state=1)\n",
        "  data_dim = len(X_train[0])\n",
        "  print(\"Number of classes: %d\" % n_classes)\n",
        "  print(\"Data dimension: %d\" % data_dim)\n",
        "  print(\"Number of training samples: %d\" % (len(y_train)))\n",
        "  print(\"Number of testing samples: %d\\n\" % (len(y_test)))\n",
        "  #predict with cdnn\n",
        "  cdnn=KCDNNClassifier(k)\n",
        "  start_cdnn = time.time()\n",
        "  cdnn.fit(X_train,y_train)\n",
        "  predict = cdnn.predict(X_test)\n",
        "  t = time.time() - start_cdnn\n",
        "  acc = accuracy_score(y_test, predict)\n",
        "  print(\"Predict time for CDNN: %.3fs\" % (t))\n",
        "  print(\"Accuracy for CDNN with k = %d: %.3f\\n\" % (k, acc))\n",
        "\n",
        "  #predict with sklearn knn\n",
        "  for weights in ['uniform', 'distance']:\n",
        "    knn = neighbors.KNeighborsClassifier(k, weights=weights)\n",
        "    start_knn = time.time()\n",
        "    knn.fit(X_train, y_train)\n",
        "    predict = knn.predict(X_test)\n",
        "    t = time.time() - start_knn\n",
        "    acc = accuracy_score(y_test, predict)\n",
        "    print(\"Predict time for kNN with %s weights: %.3fs\" % (weights, t))\n",
        "    print(\"Accuracy for kNN with k = %d and %s weights: %.3f\\n\" % (k, weights, acc))"
      ],
      "metadata": {
        "id": "ffYHBlKPjND6"
      },
      "execution_count": 45,
      "outputs": []
    },
    {
      "cell_type": "code",
      "source": [
        "k=21\n",
        "print(\"Testing with k = %d\\n\" % (k))\n",
        "test_digits(k)\n",
        "test_breast_cancer(k)"
      ],
      "metadata": {
        "colab": {
          "base_uri": "https://localhost:8080/"
        },
        "id": "m3E74lXmisCx",
        "outputId": "24129d43-c514-4177-b996-8a1f1fe26cbb"
      },
      "execution_count": 43,
      "outputs": [
        {
          "output_type": "stream",
          "name": "stdout",
          "text": [
            "Testing with k = 21\n",
            "\n",
            "---------------Digits dataset------------------\n",
            "Loading data.....\n",
            "Done loading data!\n",
            "\n",
            "Number of classes: 10\n",
            "Data dimension: 64\n",
            "Number of training samples: 1437\n",
            "Number of testing samples: 360\n",
            "\n",
            "Predict time for CDNN: 0.091s\n",
            "Accuracy for CDNN with k = 21: 0.992\n",
            "\n",
            "Predict time for kNN with uniform weights: 0.032s\n",
            "Accuracy for kNN with k = 21 and uniform weights: 0.978\n",
            "\n",
            "Predict time for kNN with distance weights: 0.025s\n",
            "Accuracy for kNN with k = 21 and distance weights: 0.983\n",
            "\n",
            "-----------------------------------------------\n",
            "\n",
            "---------------Breast Cancer dataset------------------\n",
            "Loading data.....\n",
            "Done loading data!\n",
            "\n",
            "Number of classes: 2\n",
            "Data dimension: 30\n",
            "Number of training samples: 455\n",
            "Number of testing samples: 114\n",
            "\n",
            "Predict time for CDNN: 0.023s\n",
            "Accuracy for CDNN with k = 21: 0.939\n",
            "\n",
            "Predict time for kNN with uniform weights: 0.009s\n",
            "Accuracy for kNN with k = 21 and uniform weights: 0.912\n",
            "\n",
            "Predict time for kNN with distance weights: 0.005s\n",
            "Accuracy for kNN with k = 21 and distance weights: 0.912\n",
            "\n"
          ]
        }
      ]
    },
    {
      "cell_type": "code",
      "source": [
        "def test_digits_distance_metrics(k=21,distance_metrics='euclidean'):\n",
        "  print(\"---------------Digits dataset------------------\")\n",
        "  print(\"Loading data.....\")\n",
        "  data = datasets.load_digits()\n",
        "  n_classes = len(np.unique(data.target))\n",
        "  print(\"Done loading data!\\n\")\n",
        "  X_train, X_test, y_train, y_test = train_test_split(data.data, data.target, test_size=0.2,random_state=1)\n",
        "  data_dim = len(X_train[0])\n",
        "  print(\"Distance metrics: %s\" % distance_metrics)\n",
        "  #predict with cdnn\n",
        "  cdnn=KCDNNClassifier(k,distance_metrics)\n",
        "  start_cdnn = time.time()\n",
        "  cdnn.fit(X_train,y_train)\n",
        "  predict = cdnn.predict(X_test)\n",
        "  t = time.time() - start_cdnn\n",
        "  acc = accuracy_score(y_test, predict)\n",
        "  print(\"Predict time for CDNN: %.3fs\" % (t))\n",
        "  print(\"Accuracy for CDNN with k = %d: %.3f\\n\" % (k, acc))\n",
        "\n",
        "  print(\"-----------------------------------------------\\n\")"
      ],
      "metadata": {
        "id": "q54Vjn3LoPoQ"
      },
      "execution_count": 54,
      "outputs": []
    },
    {
      "cell_type": "code",
      "source": [
        "distance_metrics=['cosine','jensenshannon','sqeuclidean']\n",
        "for dm in distance_metrics:\n",
        "  print(dm)\n",
        "  test_digits_distance_metrics(k=21,distance_metrics=dm)"
      ],
      "metadata": {
        "colab": {
          "base_uri": "https://localhost:8080/"
        },
        "id": "X63hT5tKixf7",
        "outputId": "586af1b3-fad5-460b-dcc6-360bfdfc0e10"
      },
      "execution_count": 55,
      "outputs": [
        {
          "output_type": "stream",
          "name": "stdout",
          "text": [
            "cosine\n",
            "---------------Digits dataset------------------\n",
            "Loading data.....\n",
            "Done loading data!\n",
            "\n",
            "Distance metrics: cosine\n",
            "Predict time for CDNN: 0.097s\n",
            "Accuracy for CDNN with k = 21: 0.994\n",
            "\n",
            "-----------------------------------------------\n",
            "\n",
            "jensenshannon\n",
            "---------------Digits dataset------------------\n",
            "Loading data.....\n",
            "Done loading data!\n",
            "\n",
            "Distance metrics: jensenshannon\n",
            "Predict time for CDNN: 1.288s\n",
            "Accuracy for CDNN with k = 21: 0.992\n",
            "\n",
            "-----------------------------------------------\n",
            "\n",
            "sqeuclidean\n",
            "---------------Digits dataset------------------\n",
            "Loading data.....\n",
            "Done loading data!\n",
            "\n",
            "Distance metrics: sqeuclidean\n",
            "Predict time for CDNN: 0.089s\n",
            "Accuracy for CDNN with k = 21: 0.992\n",
            "\n",
            "-----------------------------------------------\n",
            "\n"
          ]
        }
      ]
    }
  ]
}